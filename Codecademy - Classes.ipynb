{
 "cells": [
  {
   "cell_type": "markdown",
   "id": "arbitrary-archives",
   "metadata": {},
   "source": [
    "Create the Class \"Menu\""
   ]
  },
  {
   "cell_type": "code",
   "execution_count": 1,
   "id": "occupied-range",
   "metadata": {},
   "outputs": [],
   "source": [
    "class Menu:\n",
    "  def __init__(self, name, items, start_time, end_time):\n",
    "    self.name=name\n",
    "    self.items=items\n",
    "    self.start_time=start_time\n",
    "    self.end_time=end_time\n",
    "  \n",
    "  def __repr__(self):\n",
    "    return self.name + ' Menu is avaiable from ' + str(self.start_time) + ' until ' + str(self.end_time) + '.'\n",
    "\n",
    "  def calculate_bill(self, purchased_items):\n",
    "    total=0\n",
    "    for i in purchased_items:\n",
    "      total+=self.items[i]\n",
    "    return total\n"
   ]
  },
  {
   "cell_type": "markdown",
   "id": "adapted-spare",
   "metadata": {},
   "source": [
    "Add the different Menus"
   ]
  },
  {
   "cell_type": "code",
   "execution_count": 2,
   "id": "standing-feelings",
   "metadata": {},
   "outputs": [],
   "source": [
    "brunch=Menu('Brunch', {\n",
    "  'pancakes': 7.50, 'waffles': 9.00, 'burger': 11.00, 'home fries': 4.50, 'coffee': 1.50, 'espresso': 3.00, 'tea': 1.00, 'mimosa': 10.50, 'orange juice': 3.50\n",
    "}, 1100, 1600)  \n",
    "\n",
    "early_bird=Menu('Early bird', {\n",
    "  'salumeria plate': 8.00, 'salad and breadsticks (serves 2, no refills)': 14.00, 'pizza with quattro formaggi': 9.00, 'duck ragu': 17.50, 'mushroom ravioli (vegan)': 13.50, 'coffee': 1.50, 'espresso': 3.00,\n",
    "}, 1500, 1800)\n",
    "\n",
    "dinner=Menu('Dinner', {\n",
    "  'crostini with eggplant caponata': 13.00, 'ceaser salad': 16.00, 'pizza with quattro formaggi': 11.00, 'duck ragu': 19.50, 'mushroom ravioli (vegan)': 13.50, 'coffee': 2.00, 'espresso': 3.00,\n",
    "}, 1700, 2300)\n",
    "\n",
    "kids=Menu('Kids', {\n",
    "  'chicken nuggets': 6.50, 'fusilli with wild mushrooms': 12.00, 'apple juice': 3.00\n",
    "}, 1100, 2100)\n",
    "\n",
    "arepas_menu=Menu('Take a Arepa', {\n",
    "  'arepa pabellon': 7.00, 'pernil arepa': 8.50, 'guayanes arepa': 8.00, 'jamon arepa': 7.50\n",
    "}, 1000, 2000)"
   ]
  },
  {
   "cell_type": "markdown",
   "id": "rental-consistency",
   "metadata": {},
   "source": [
    "Create the Class \"Franchise\""
   ]
  },
  {
   "cell_type": "code",
   "execution_count": 3,
   "id": "coral-affair",
   "metadata": {},
   "outputs": [],
   "source": [
    "class Franchise:\n",
    "  def __init__(self, address, menus):\n",
    "    self.address=address\n",
    "    self.menus=menus\n",
    "  def __repr__(self):\n",
    "    return 'The restaurant is located at ' + self.address + '.'\n",
    "  def available_menus(self, time):\n",
    "    lst=[]\n",
    "    for i in self.menus:\n",
    "      if i.start_time <= time and i.end_time >= time:\n",
    "        lst.append(i.name)\n",
    "    return lst"
   ]
  },
  {
   "cell_type": "markdown",
   "id": "exotic-applicant",
   "metadata": {},
   "source": [
    "Add the Franchises"
   ]
  },
  {
   "cell_type": "code",
   "execution_count": 4,
   "id": "satisfactory-tract",
   "metadata": {},
   "outputs": [],
   "source": [
    "flagship_store=Franchise('1232 West End Road', [brunch, early_bird, dinner, kids])\n",
    "new_installment=Franchise('12 East Mulberry Street', [brunch, early_bird, dinner, kids])\n",
    "arepas_place=Franchise('189 Fitzgerald Avenue', [arepas_menu])"
   ]
  },
  {
   "cell_type": "markdown",
   "id": "voluntary-alarm",
   "metadata": {},
   "source": [
    "Create the Class \"Business\""
   ]
  },
  {
   "cell_type": "code",
   "execution_count": 5,
   "id": "hybrid-vitamin",
   "metadata": {},
   "outputs": [],
   "source": [
    "class Business:\n",
    "  def __init__(self, name, franchises):\n",
    "    self.name=name\n",
    "    self.franchises=franchises"
   ]
  },
  {
   "cell_type": "markdown",
   "id": "tough-glory",
   "metadata": {},
   "source": [
    "Add the Businesses"
   ]
  },
  {
   "cell_type": "code",
   "execution_count": 6,
   "id": "endangered-construction",
   "metadata": {},
   "outputs": [],
   "source": [
    "business=Business(\"Basta Fazoolin' with my Heart\", [flagship_store, new_installment])\n",
    "business2=Business('Take a Arepa', [arepas_place])"
   ]
  },
  {
   "cell_type": "markdown",
   "id": "demanding-moment",
   "metadata": {},
   "source": [
    "Test Area"
   ]
  },
  {
   "cell_type": "code",
   "execution_count": 7,
   "id": "academic-intellectual",
   "metadata": {},
   "outputs": [
    {
     "name": "stdout",
     "output_type": "stream",
     "text": [
      "13.5\n",
      "21.5\n",
      "['Early bird', 'Dinner', 'Kids']\n"
     ]
    }
   ],
   "source": [
    "print(brunch.calculate_bill(['pancakes', 'home fries', 'coffee']))\n",
    "print(early_bird.calculate_bill(['salumeria plate', 'mushroom ravioli (vegan)']))\n",
    "print(flagship_store.available_menus(1700))"
   ]
  },
  {
   "cell_type": "code",
   "execution_count": null,
   "id": "virtual-animation",
   "metadata": {},
   "outputs": [],
   "source": []
  }
 ],
 "metadata": {
  "kernelspec": {
   "display_name": "Python 3",
   "language": "python",
   "name": "python3"
  },
  "language_info": {
   "codemirror_mode": {
    "name": "ipython",
    "version": 3
   },
   "file_extension": ".py",
   "mimetype": "text/x-python",
   "name": "python",
   "nbconvert_exporter": "python",
   "pygments_lexer": "ipython3",
   "version": "3.9.1"
  }
 },
 "nbformat": 4,
 "nbformat_minor": 5
}
